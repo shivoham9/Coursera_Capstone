{
 "cells": [
  {
   "cell_type": "markdown",
   "metadata": {},
   "source": [
    "# The Battle of Neighborhood: Japan Hostels"
   ]
  },
  {
   "cell_type": "markdown",
   "metadata": {},
   "source": [
    "### Table of Content:  \n",
    "1. [Introduction/Business Understanding](#1.-Introduction/Business-Understanding)\n",
    "2. [Analytic Approach](#2.-Analytic-Approach)\n",
    "3. [Data Requirements](#3.-Data-Requirements)\n",
    "4. [Data Preparation/Pre-processing](#4.-Data-Preparation/Pre-processing)\n",
    "5. [Analysis](#5.-Analysis)\n",
    "6. [Conclusion](#6.-Conclusion)"
   ]
  },
  {
   "cell_type": "markdown",
   "metadata": {},
   "source": [
    "<img src=\"images/tokyo.jpg\" width=\"65%\"/>"
   ]
  },
  {
   "cell_type": "markdown",
   "metadata": {},
   "source": [
    "## 1. Introduction/Business Understanding"
   ]
  },
  {
   "cell_type": "markdown",
   "metadata": {},
   "source": [
    "#### 1.1 Background"
   ]
  },
  {
   "cell_type": "markdown",
   "metadata": {},
   "source": [
    "Working as a Lead Engineer is quite tiring especially before releases and higher management meetings. Thankfully, I've developed a hobby which let's me unwind and at the same time helps me build a global perspective. As someone who loves travelling, finding ways to save money and travel low-cost is essential. There's little to save while booking flights and I'd rather pay more to traveling comfortably on a 16Hr flight than try to save and wear myself down even before the trip begins! But we can always save a few bucks on accomodation.\n",
    "\n",
    "A hostel is a low-budget accommodation shared among travelers. Staying at hostels is an extremely affordable option for travelers. Not only that, It also gives you a chance to expereince which you would never at a hotel. I've found that experiencing hostel life one of the best ways to travel the world on a budget and here’s why:\n",
    "1. You'll save a lot of money trust me.\n",
    "2. Meet other like-minded travellers and make new friends around the world!\n",
    "3. Most hostels organize lot of social activites"
   ]
  },
  {
   "cell_type": "markdown",
   "metadata": {},
   "source": [
    "#### 1.2 Problem Description:"
   ]
  },
  {
   "cell_type": "markdown",
   "metadata": {},
   "source": [
    "Hostel accomodation is a booming industry with the latest rise in tourism worldwide, especially in Asia. Over 20% of the total tourists worldwide are aged between 19-25. And around 80% of them prefer to spend less on accomodation by opting for hostels. This means the demand for hostels is only going to grow further and more people would want to get their legs in the game. \n",
    "- How should a new business person decide where to build for a hostel?\n",
    "- What factors should he look at before investing?\n",
    "- Which neighborhood venues affect a user's rating for *location* of hostel?\n",
    "\n",
    "At the same time, it is difficult for a travellers, especially first-timers, to select a hostel from among many options. Hostel reviews are subjective and differ from person-to-person and one cannot solely depend on them to make a decision. It is especially important to consider other aspects like price and neighborhood, which can greatly influence one's experience of the city/country.\n",
    "I will try to answer the following questions \n",
    "- How does price vary with location?\n",
    "- Where are the <i>'value of money'</i> hostels located?\n",
    "- How does proximity to transportation affect hostel rating?\n",
    "- Which hostels are most secure and where are they located?\n",
    "- Suggest similar hostel but which cheaper price\n",
    "\n",
    "For this project, we will be looking at hostels in Japan"
   ]
  },
  {
   "cell_type": "markdown",
   "metadata": {},
   "source": [
    "#### 1.3 Target Audience"
   ]
  },
  {
   "cell_type": "markdown",
   "metadata": {},
   "source": [
    "<<*Change this section if models change*>>\n",
    "\n",
    "This project will serve two groups of audience:\n",
    "1. **Travellers:** Help them make an informed decision while choosing a hostel by providing an in-depth analysis of hostels and their neighborhood.\n",
    "2. **Business Person:** Provide useful information and models which can help them where to open their first/next hostel and how much should they charge."
   ]
  },
  {
   "cell_type": "markdown",
   "metadata": {},
   "source": [
    "## 2. Analytic Approach\n",
    "I will be taking two approaches in the project."
   ]
  },
  {
   "cell_type": "markdown",
   "metadata": {},
   "source": [
    "Firstly, I will use *exploratory data analysis(EDA)* to uncover hidden properties of data and provide useful insights to the reader, both future traveller and investor.\n",
    "\n",
    "Secondly, I will use *prescriptive analytics* to help a business person decide a location for new hostel and predict how much should be starting price at the hostel. I will use *clustering* (KMeans) and *regression (Decision Tree Regression)*\n",
    "\n",
    "<<*Change this section if models change*>>"
   ]
  },
  {
   "cell_type": "markdown",
   "metadata": {},
   "source": [
    "## 3. Data Requirements"
   ]
  },
  {
   "cell_type": "markdown",
   "metadata": {},
   "source": [
    "> Change if data sources change"
   ]
  },
  {
   "cell_type": "markdown",
   "metadata": {},
   "source": [
    "One city will be analysed in this project : **Tokyo**."
   ]
  },
  {
   "cell_type": "markdown",
   "metadata": {},
   "source": [
    "Following are the datasets used in the project along with the reasons for choosing them:\n",
    "\n",
    "**1. [Japan Hostel Dataset](https://www.kaggle.com/koki25ando/hostel-world-dataset)**: This dataset was web scraped from Hostelworld by Koki Ando and is available on Kaggle. This is the core dataset with which I'll work.\n",
    "\n",
    "**2. [Foursquare API](https://developer.foursquare.com/docs/api)**: This API will help me get the venues around the hostel which I will use for EDA and clustering.\n",
    "\n",
    "**3. [Tokyo Land Price](https://utinokati.com/en/details/land-market-value/area/Tokyo/)**: I will scrape this website to get land prices of various neighborhoods in Tokyo."
   ]
  },
  {
   "cell_type": "markdown",
   "metadata": {},
   "source": [
    "*__Note:__ Since there is a quota limit on Foursquare, I'll be downloading the data and storing it locally as csv for future use. So we do not have to pull same data again when we restart the data.*"
   ]
  },
  {
   "cell_type": "markdown",
   "metadata": {},
   "source": [
    "Firstly, I will use the list of hostels from *Hostel dataset* and use *Foursquare API* to get venues around the Hostel. I will then use EDA to explore the neighborhood and how it affects the price of the hostel. I will also use the combined dataset to cluster similar hostels as per pricing and neighborhood. \n",
    "\n",
    "Second, I will combine the above data with the land price for the area in which the Hostel is situated and them develop clustering and regression models to predict where a new hostel should be opened and how much should it be priced at."
   ]
  }
 ],
 "metadata": {
  "kernelspec": {
   "display_name": "Python 3",
   "language": "python",
   "name": "python3"
  },
  "language_info": {
   "codemirror_mode": {
    "name": "ipython",
    "version": 3
   },
   "file_extension": ".py",
   "mimetype": "text/x-python",
   "name": "python",
   "nbconvert_exporter": "python",
   "pygments_lexer": "ipython3",
   "version": "3.7.4"
  }
 },
 "nbformat": 4,
 "nbformat_minor": 4
}
